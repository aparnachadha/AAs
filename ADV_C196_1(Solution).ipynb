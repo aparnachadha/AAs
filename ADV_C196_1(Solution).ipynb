{
  "nbformat": 4,
  "nbformat_minor": 0,
  "metadata": {
    "colab": {
      "name": "ADV_C196_1(Solution).ipynb",
      "provenance": [],
      "collapsed_sections": [],
      "include_colab_link": true
    },
    "kernelspec": {
      "name": "python3",
      "display_name": "Python 3"
    }
  },
  "cells": [
    {
      "cell_type": "markdown",
      "metadata": {
        "id": "view-in-github",
        "colab_type": "text"
      },
      "source": [
        "<a href=\"https://colab.research.google.com/github/aparnachadha/AAs/blob/main/ADV_C196_1(Solution).ipynb\" target=\"_parent\"><img src=\"https://colab.research.google.com/assets/colab-badge.svg\" alt=\"Open In Colab\"/></a>"
      ]
    },
    {
      "cell_type": "code",
      "metadata": {
        "colab": {
          "base_uri": "https://localhost:8080/",
          "height": 111
        },
        "id": "nIozq58uglR9",
        "outputId": "9c986e35-0cd2-46ca-d080-2ea29fc89e6c"
      },
      "source": [
        "#Additional Activity 1\n",
        "#Count all the total number of female and male passengers on the Titanic ship.\n",
        "#predefine code start\n",
        "#import the required packages \n",
        "import pandas as pd\n",
        "import matplotlib.pyplot as plt\n",
        "#Read the csv file.\n",
        "df = pd.read_csv(\"https://shravantihable.github.io/AA/Titanic.csv\")\n",
        "df\n",
        "#predefine code ends\n",
        "\n",
        "#remove the rows having the NaN values: \n",
        "#for this use the df variable which holds the dataframe, access the dropna() function using the '.' operator and again store it in variable df.\n",
        "df = df.dropna()\n",
        "\n",
        "#check the people who survived the Titanic disaster:\n",
        "#For this use the df variable and access the loc[] function, inside the square brackets access the column 'Survived' of data frame df and check the values are equal to 1.Store it in data frame new_df.\n",
        "new_df = df.loc[df['Survived'] == 1]\n",
        "#print the variable new_df\n",
        "new_df\n",
        "#groupby the gender column and count the passengers from 'PassengerId' column:\n",
        "#for this use the new_df data frame and apply the groupby() function on 'Gender' column and another column ['Passenger'] and on this apply count() function  to count the male and female passangers and reset the index to 0 and store it in variable groupby_gender.\n",
        "groupby_gender = new_df.groupby('Gender')['PassengerId'].count().reset_index()\n",
        "#print the variable groupby_gender\n",
        "groupby_gender"
      ],
      "execution_count": null,
      "outputs": [
        {
          "output_type": "execute_result",
          "data": {
            "text/html": [
              "<div>\n",
              "<style scoped>\n",
              "    .dataframe tbody tr th:only-of-type {\n",
              "        vertical-align: middle;\n",
              "    }\n",
              "\n",
              "    .dataframe tbody tr th {\n",
              "        vertical-align: top;\n",
              "    }\n",
              "\n",
              "    .dataframe thead th {\n",
              "        text-align: right;\n",
              "    }\n",
              "</style>\n",
              "<table border=\"1\" class=\"dataframe\">\n",
              "  <thead>\n",
              "    <tr style=\"text-align: right;\">\n",
              "      <th></th>\n",
              "      <th>Gender</th>\n",
              "      <th>PassengerId</th>\n",
              "    </tr>\n",
              "  </thead>\n",
              "  <tbody>\n",
              "    <tr>\n",
              "      <th>0</th>\n",
              "      <td>female</td>\n",
              "      <td>82</td>\n",
              "    </tr>\n",
              "    <tr>\n",
              "      <th>1</th>\n",
              "      <td>male</td>\n",
              "      <td>41</td>\n",
              "    </tr>\n",
              "  </tbody>\n",
              "</table>\n",
              "</div>"
            ],
            "text/plain": [
              "   Gender  PassengerId\n",
              "0  female           82\n",
              "1    male           41"
            ]
          },
          "metadata": {
            "tags": []
          },
          "execution_count": 1
        }
      ]
    }
  ]
}