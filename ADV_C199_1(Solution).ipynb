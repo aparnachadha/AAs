{
  "nbformat": 4,
  "nbformat_minor": 0,
  "metadata": {
    "colab": {
      "name": "ADV_C199.1(Solution).ipynb",
      "provenance": [],
      "collapsed_sections": [],
      "include_colab_link": true
    },
    "kernelspec": {
      "name": "python3",
      "display_name": "Python 3"
    }
  },
  "cells": [
    {
      "cell_type": "markdown",
      "metadata": {
        "id": "view-in-github",
        "colab_type": "text"
      },
      "source": [
        "<a href=\"https://colab.research.google.com/github/aparnachadha/AAs/blob/main/ADV_C199_1(Solution).ipynb\" target=\"_parent\"><img src=\"https://colab.research.google.com/assets/colab-badge.svg\" alt=\"Open In Colab\"/></a>"
      ]
    },
    {
      "cell_type": "code",
      "metadata": {
        "colab": {
          "base_uri": "https://localhost:8080/"
        },
        "id": "djTCMKUKHlk8",
        "outputId": "bf6ede66-5d86-4d1d-cd53-762b66ca58de"
      },
      "source": [
        "#AA 1-create 2 list each of which should have a list of numbers between 1 to 50\n",
        "\n",
        "#import the numpy module and create its alias as np\n",
        "import numpy as np\n",
        "\n",
        "#np.arange(start,end,step)-in numpy, if we want to generate a list of numbers then one way of doing so is using the np.arange() function which takes 3 arguments : starting point, ending point and a step(increment).\n",
        "#for example- np.arange(1,11,1), here 1 is starting number, 11 is the ending number (as we want number till 10 so given 11 as ending number), and 1 is increament\n",
        "#so below, we have created a list of numbers from 1 to 50 using np.arange() function and stored in a variable List1.\n",
        "List1=np.arange(1,51,1)\n",
        "#inside the print() function add a string as \"List1- \" and call the variable which holds the list of numbers.\n",
        "print(\"List1- \", List1)\n",
        "#similarly create one more list of numbers from 1 to 50 using np.arange() function and store it in a variable List2.\n",
        "List2=np.arange(1,51,1)\n",
        "##inside the print() function add a string as \"List2- \" and  call the variable which holds the list of numbers.\n",
        "print(\"List2- \",List2)"
      ],
      "execution_count": null,
      "outputs": [
        {
          "output_type": "stream",
          "text": [
            "List1-  [ 1  2  3  4  5  6  7  8  9 10 11 12 13 14 15 16 17 18 19 20 21 22 23 24\n",
            " 25 26 27 28 29 30 31 32 33 34 35 36 37 38 39 40 41 42 43 44 45 46 47 48\n",
            " 49 50]\n",
            "List2-  [ 1  2  3  4  5  6  7  8  9 10 11 12 13 14 15 16 17 18 19 20 21 22 23 24\n",
            " 25 26 27 28 29 30 31 32 33 34 35 36 37 38 39 40 41 42 43 44 45 46 47 48\n",
            " 49 50]\n"
          ],
          "name": "stdout"
        }
      ]
    },
    {
      "cell_type": "code",
      "metadata": {
        "id": "WG1OdvdHKmOd"
      },
      "source": [
        ""
      ],
      "execution_count": null,
      "outputs": []
    }
  ]
}