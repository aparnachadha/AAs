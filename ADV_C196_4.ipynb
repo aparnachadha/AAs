{
  "nbformat": 4,
  "nbformat_minor": 0,
  "metadata": {
    "colab": {
      "name": "ADV_C196.4.ipynb",
      "provenance": [],
      "collapsed_sections": []
    },
    "kernelspec": {
      "name": "python3",
      "display_name": "Python 3"
    }
  },
  "cells": [
    {
      "cell_type": "code",
      "metadata": {
        "id": "oFwSN9ig3EUA"
      },
      "source": [
        "#Additional Activity 4\n",
        "\n",
        "#Note: before coding for this activity, click on the run button, to get the dataframe table\n",
        "#plotting the histogram for the cabin crew members of different age groups who survived. \n",
        "#predefine code\n",
        "#import the required packages \n",
        "import pandas as pd\n",
        "import matplotlib.pyplot as plt\n",
        "#Read the csv file.\n",
        "df = pd.read_csv(\"https://shravantihable.github.io/AA/titanic_crew_info.csv\")\n",
        "df\n",
        "df = df.dropna()\n",
        "df\n",
        "new_df = df.loc[df['Survived'] == 1.0]\n",
        "new_df\n",
        "#predefine code ends\n",
        "\n",
        "#setting the size of figure - using the plt.figure() function set the figsize by taking the width and height of your choice.\n",
        "\n",
        "#using the plt.hist() function, plot the histogram for the cabin crew members, for this set the below parameters inside the plt.hist() function\n",
        "#access the 'Age' column of new_df data frame, then add the '.' operator and access the head() function to get the first 50 crew members\n",
        "#set the bins upto 10 range\n",
        "#set the label as 'Age'\n",
        "\n",
        "#using the plt.title() function give the title to graph plot.\n",
        "\n",
        "#using the plt.ylabel() function give the label to y-axis of graph plot.\n",
        "\n",
        "#using the plt.xlabel() function give the label to x-axis of graph plot.\n",
        "\n",
        "#using the plt.legend() function set the legend to the graph.\n",
        "\n",
        "plt.show()"
      ],
      "execution_count": null,
      "outputs": []
    },
    {
      "cell_type": "code",
      "metadata": {
        "id": "3S69wpWYfDNT"
      },
      "source": [
        ""
      ],
      "execution_count": null,
      "outputs": []
    }
  ]
}