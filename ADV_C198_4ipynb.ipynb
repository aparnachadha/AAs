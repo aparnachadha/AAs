{
  "nbformat": 4,
  "nbformat_minor": 0,
  "metadata": {
    "colab": {
      "name": "ADV-C198_4ipynb",
      "provenance": [],
      "include_colab_link": true
    },
    "kernelspec": {
      "name": "python3",
      "display_name": "Python 3"
    }
  },
  "cells": [
    {
      "cell_type": "markdown",
      "metadata": {
        "id": "view-in-github",
        "colab_type": "text"
      },
      "source": [
        "<a href=\"https://colab.research.google.com/github/aparnachadha/AAs/blob/main/ADV_C198_4ipynb.ipynb\" target=\"_parent\"><img src=\"https://colab.research.google.com/assets/colab-badge.svg\" alt=\"Open In Colab\"/></a>"
      ]
    },
    {
      "cell_type": "code",
      "metadata": {
        "id": "c3CWfHzrdL_j"
      },
      "source": [
        "#Task Description : Sort the dataframe in descending order to get the 5 states with highest GDP in 2010 and 2014\n",
        "import pandas as pd\n",
        "import matplotlib.pyplot as plt \n",
        "\n",
        "pd.set_option('display.max_columns', None)\n",
        "df = pd.read_csv('https://shravaripatil.github.io/ADV/AA/Energy_Census_and_Economic_Data%20US_2010-2014.csv')\n",
        "df.head(10)\n",
        "\n",
        "# Sort the dataframe in descending order for 'GDP2010' column and store it in a variable sorted_GDP2010_df.Sorting this column in descending order will give states with high GDP in 2010 at top (Hint : Use df variable(as df variable holds the dataframe) with dot operator access the sort_values() function and pass 'GDP2010' column in string format and set the ascending parameter to False to sort the dataframe in descending order)\n",
        "\n",
        "# Get top 5 rows of the sorted_GDP2010_df dataframe using head() function and store it in a variable (Hint - apply head() function on the variable holding the dataframe using the dot operator and pass the value as 5, as we want to get the 1st 5 rows from the dataframe and store it in a variable )\n",
        "\n",
        "# Sort the dataframe in descending order for 'GDP2014' column and store it in a variable sorted_GDP2014_df. Sorting this column in descending order will give states with high GDP in 2014 at top (Hint : Use df variable(as df variable holds the dataframe) with dot operator access the sort_values() function and pass 'GDP2014' column in string format and set the ascending parameter to False to sort the dataframe in descending order)\n",
        "\n",
        "# Get top 5 rows of the sorted_GDP2014_df dataframe using head() function and store it in a variable (Hint - apply head() function on the variable holding the dataframe using the dot operator and pass the value as 5, as we want to get the 1st 5 rows from the dataframe and store it in a variable )\n"
      ],
      "execution_count": null,
      "outputs": []
    }
  ]
}