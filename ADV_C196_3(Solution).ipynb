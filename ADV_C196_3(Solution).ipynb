{
  "nbformat": 4,
  "nbformat_minor": 0,
  "metadata": {
    "colab": {
      "name": "ADV_C196_3(Solution).ipynb",
      "provenance": [],
      "collapsed_sections": [],
      "include_colab_link": true
    },
    "kernelspec": {
      "name": "python3",
      "display_name": "Python 3"
    }
  },
  "cells": [
    {
      "cell_type": "markdown",
      "metadata": {
        "id": "view-in-github",
        "colab_type": "text"
      },
      "source": [
        "<a href=\"https://colab.research.google.com/github/aparnachadha/AAs/blob/main/ADV_C196_3(Solution).ipynb\" target=\"_parent\"><img src=\"https://colab.research.google.com/assets/colab-badge.svg\" alt=\"Open In Colab\"/></a>"
      ]
    },
    {
      "cell_type": "code",
      "metadata": {
        "colab": {
          "base_uri": "https://localhost:8080/"
        },
        "id": "YWZ9ShY7iuK_",
        "outputId": "8839b30a-740b-4f38-8e00-c58d688b0345"
      },
      "source": [
        "#Additional Activity 3\n",
        "#Find out the total crew members in titanic ship, and total number of crew members who survived in titanic tragedy.\n",
        "#predefine code\n",
        "#import the required packages \n",
        "import pandas as pd\n",
        "import matplotlib.pyplot as plt\n",
        "#Read the csv file.\n",
        "df = pd.read_csv(\"https://shravantihable.github.io/AA/titanic_crew_info.csv\")\n",
        "df\n",
        "#predefine code ends\n",
        "\n",
        "#using the df dataframe, access the dropna() function and store it in variable df\n",
        "df = df.dropna()i\n",
        "#print the df variable\n",
        "df\n",
        "\n",
        "#inside the print() function write the string as \"Total crew - \"\n",
        "print(\"Total crew - \")\n",
        "#inside the print(), access the 'Name' column of df dataframe and apply the count() functionality on it.\n",
        "print(df['Name'].count())\n",
        "\n",
        "#using the df variable access the loc[] function and inside it access the 'Survived' column of the df dataframe and check if the values are equal to 1.0 and store the dataframe into variable new_df.\n",
        "new_df = df.loc[df['Survived'] == 1.0]\n",
        "##inside the print() function write the string as \"\"Total Survived crew - \"\n",
        "print(\"Total Survived crew - \")\n",
        "#inside the print(), access the 'Survived' column of new_df dataframe and apply the count() functionality on it\n",
        "print(new_df['Survived'].count())"
      ],
      "execution_count": null,
      "outputs": [
        {
          "output_type": "stream",
          "text": [
            "Total crew - \n",
            "272\n",
            "Total Survived crew - \n",
            "202\n"
          ],
          "name": "stdout"
        }
      ]
    }
  ]
}