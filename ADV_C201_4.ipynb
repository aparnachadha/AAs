{
  "nbformat": 4,
  "nbformat_minor": 0,
  "metadata": {
    "colab": {
      "name": "ADV_C201.4.ipynb",
      "provenance": [],
      "collapsed_sections": [],
      "include_colab_link": true
    },
    "kernelspec": {
      "name": "python3",
      "display_name": "Python 3"
    },
    "widgets": {
      "application/vnd.jupyter.widget-state+json": {
        "0c0ad02d67604941b3c7bd966c1fe19f": {
          "model_module": "@jupyter-widgets/controls",
          "model_name": "ButtonModel",
          "model_module_version": "1.5.0",
          "state": {
            "_view_name": "ButtonView",
            "style": "IPY_MODEL_07600584406941e9907c0db6eea48472",
            "_dom_classes": [],
            "description": "File select",
            "_model_name": "ButtonModel",
            "button_style": "",
            "_view_module": "@jupyter-widgets/controls",
            "_model_module_version": "1.5.0",
            "tooltip": "",
            "_view_count": null,
            "disabled": false,
            "_view_module_version": "1.5.0",
            "layout": "IPY_MODEL_4ca859cfca8e442a9c856d82a120e966",
            "_model_module": "@jupyter-widgets/controls",
            "icon": ""
          }
        },
        "07600584406941e9907c0db6eea48472": {
          "model_module": "@jupyter-widgets/controls",
          "model_name": "ButtonStyleModel",
          "model_module_version": "1.5.0",
          "state": {
            "_view_name": "StyleView",
            "_model_name": "ButtonStyleModel",
            "_view_module": "@jupyter-widgets/base",
            "_model_module_version": "1.5.0",
            "_view_count": null,
            "button_color": null,
            "font_weight": "",
            "_view_module_version": "1.2.0",
            "_model_module": "@jupyter-widgets/controls"
          }
        },
        "4ca859cfca8e442a9c856d82a120e966": {
          "model_module": "@jupyter-widgets/base",
          "model_name": "LayoutModel",
          "model_module_version": "1.2.0",
          "state": {
            "_view_name": "LayoutView",
            "grid_template_rows": null,
            "right": null,
            "justify_content": null,
            "_view_module": "@jupyter-widgets/base",
            "overflow": null,
            "_model_module_version": "1.2.0",
            "_view_count": null,
            "flex_flow": null,
            "width": null,
            "min_width": null,
            "border": null,
            "align_items": null,
            "bottom": null,
            "_model_module": "@jupyter-widgets/base",
            "top": null,
            "grid_column": null,
            "overflow_y": null,
            "overflow_x": null,
            "grid_auto_flow": null,
            "grid_area": null,
            "grid_template_columns": null,
            "flex": null,
            "_model_name": "LayoutModel",
            "justify_items": null,
            "grid_row": null,
            "max_height": null,
            "align_content": null,
            "visibility": null,
            "align_self": null,
            "height": null,
            "min_height": null,
            "padding": null,
            "grid_auto_rows": null,
            "grid_gap": null,
            "max_width": null,
            "order": null,
            "_view_module_version": "1.2.0",
            "grid_template_areas": null,
            "object_position": null,
            "object_fit": null,
            "grid_auto_columns": null,
            "margin": null,
            "display": null,
            "left": null
          }
        }
      }
    }
  },
  "cells": [
    {
      "cell_type": "markdown",
      "metadata": {
        "id": "view-in-github",
        "colab_type": "text"
      },
      "source": [
        "<a href=\"https://colab.research.google.com/github/aparnachadha/AAs/blob/main/ADV_C201_4.ipynb\" target=\"_parent\"><img src=\"https://colab.research.google.com/assets/colab-badge.svg\" alt=\"Open In Colab\"/></a>"
      ]
    },
    {
      "cell_type": "code",
      "metadata": {
        "colab": {
          "base_uri": "https://localhost:8080/",
          "height": 48,
          "referenced_widgets": [
            "0c0ad02d67604941b3c7bd966c1fe19f",
            "07600584406941e9907c0db6eea48472",
            "4ca859cfca8e442a9c856d82a120e966"
          ]
        },
        "id": "J3uTEIonHUlJ",
        "outputId": "dead1fb1-b2f6-4f95-c451-6ada09abf13a"
      },
      "source": [
        "#Activity 4: using radio button select columns for x and y axis and plot a bar chart for the same.\n",
        "from ipywidgets import widgets\n",
        "from IPython.display import display, clear_output\n",
        "import pandas as pd\n",
        "import matplotlib.pyplot as plt \n",
        "\n",
        "\n",
        "df= pd.read_csv(\"https://shravantihable.github.io/AA/percentage.csv\")\n",
        "def select_cols(b):\n",
        "    #call the clear_output() function to clear the previous output.\n",
        "\n",
        "    #access the df variable inside the function\n",
        "\n",
        "    print(df)\n",
        "    x= widgets.RadioButtons(options=df.columns,description=\"xaxis_label\")\n",
        "    y= widgets.RadioButtons(options=df.columns,description=\"yaxis_label\")\n",
        "    #link the radio button widget to the function plot_graph(yet to be created just write and keep the name of function plot_graph) by using the widgets.interactive().And inside this function add the below parameters\n",
        "    # 1)plot_graph- this is the function yet to be created for plotting the graph\n",
        "    # 2) x_axis=x - this is the column value selected from the drop down for x-axis\n",
        "    # 3) y_axis= y - this is the column value selected from the drop down for y-axis\n",
        "    #and store this linked function and radio button in  a variable graph.\n",
        "\n",
        "    display(graph)\n",
        "    \n",
        "fileselect = widgets.Button(description=\"File select\")\n",
        "fileselect.on_click(select_cols)\n",
        "display(fileselect)\n",
        "\n",
        "\n",
        "def plot_graph(x_axis,y_axis):\n",
        "    #access the df variable inside the function\n",
        "  \n",
        "    plt.subplots(figsize=(19,8))\n",
        "    #using the plt.bar() function plot the bar graph for the columns selected, we will give the following parameters to this function :\n",
        "    #1) df[x_axis]- this is the column of the dataframe which is selected using the radio button for x-axis.\n",
        "    #2) df[y_axis]- this is the column of the dataframe which is selected using the radio button for y-axis.\n",
        "    #3) color=[]- add the colors of your choice inside this list.\n",
        "   \n",
        "    plt.xlabel(x_axis)\n",
        "    plt.ylabel(y_axis)\n",
        "    plt.show()\n"
      ],
      "execution_count": 1,
      "outputs": [
        {
          "output_type": "display_data",
          "data": {
            "application/vnd.jupyter.widget-view+json": {
              "model_id": "0c0ad02d67604941b3c7bd966c1fe19f",
              "version_minor": 0,
              "version_major": 2
            },
            "text/plain": [
              "Button(description='File select', style=ButtonStyle())"
            ]
          },
          "metadata": {}
        }
      ]
    }
  ]
}