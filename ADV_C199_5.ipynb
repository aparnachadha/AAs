{
  "nbformat": 4,
  "nbformat_minor": 0,
  "metadata": {
    "colab": {
      "name": "ADV_C199.5.ipynb",
      "provenance": [],
      "collapsed_sections": [],
      "include_colab_link": true
    },
    "kernelspec": {
      "name": "python3",
      "display_name": "Python 3"
    }
  },
  "cells": [
    {
      "cell_type": "markdown",
      "metadata": {
        "id": "view-in-github",
        "colab_type": "text"
      },
      "source": [
        "<a href=\"https://colab.research.google.com/github/aparnachadha/AAs/blob/main/ADV_C199_5.ipynb\" target=\"_parent\"><img src=\"https://colab.research.google.com/assets/colab-badge.svg\" alt=\"Open In Colab\"/></a>"
      ]
    },
    {
      "cell_type": "code",
      "metadata": {
        "id": "iKL3bNONmd2T"
      },
      "source": [
        "#AA5-Generate a Table by taking a number input from the user and the table should get displayed on click of the button.\n",
        "from ipywidgets import widgets\n",
        "from IPython.display import display\n",
        "#we have defined a variable input_text, and inside it we have stored an input box, this input box is created using the widgets.Text() function.\n",
        "input_text = widgets.Text()\n",
        "#using the display() function display the input_text variable to display the input box on the console.\n",
        "\n",
        "\n",
        "#define a function table and inside it pass the parameter as b, this b will generate an event, when the function is called, on click of the button.\n",
        "\n",
        "#declare the input_text as global to use it inside the function\n",
        "\n",
        "#using for loop, create numbers in range 1 to 11 and retrive the values one by one and store in variable i.\n",
        "    \n",
        "#using the print() function print the table, for this inside the print() function, first write: int(input_text.value) after giving coma write \"X\" after coma, write i, then \"-\", then write i*int(input_text.value)\n",
        "        \n",
        "\n",
        "#now, define  a variable btn, and inside it store the button component. So create a Button component, using the widgets.Button() function and inside it set the discription parameter to a string \"Show Table\".    \n",
        "\n",
        "#now using the variable btn which holds the button component, access the on_click() function and inside it pass the function name table\n",
        "\n",
        "#using the display() function call the btn variable to display the button on the output cell.\n"
      ],
      "execution_count": null,
      "outputs": []
    }
  ]
}