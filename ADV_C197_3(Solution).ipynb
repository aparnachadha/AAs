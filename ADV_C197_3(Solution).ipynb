{
  "nbformat": 4,
  "nbformat_minor": 0,
  "metadata": {
    "colab": {
      "name": "ADV-C197.3(Solution).ipynb",
      "provenance": [],
      "collapsed_sections": [],
      "include_colab_link": true
    },
    "kernelspec": {
      "name": "python3",
      "display_name": "Python 3"
    }
  },
  "cells": [
    {
      "cell_type": "markdown",
      "metadata": {
        "id": "view-in-github",
        "colab_type": "text"
      },
      "source": [
        "<a href=\"https://colab.research.google.com/github/aparnachadha/AAs/blob/main/ADV_C197_3(Solution).ipynb\" target=\"_parent\"><img src=\"https://colab.research.google.com/assets/colab-badge.svg\" alt=\"Open In Colab\"/></a>"
      ]
    },
    {
      "cell_type": "code",
      "metadata": {
        "colab": {
          "base_uri": "https://localhost:8080/",
          "height": 568
        },
        "id": "qaeFhBSyLZUU",
        "outputId": "06d6c59a-d071-45f4-e075-3083bd627873"
      },
      "source": [
        "#Activity 3\n",
        "#plot the heat map for showing the highest speed of the wind is in which month and at what time.\n",
        "#Predefine code start\n",
        "import pandas as pd\n",
        "import matplotlib.pyplot as plt\n",
        "import seaborn as sns \n",
        "\n",
        "df = pd.read_csv('https://shravantihable.github.io/AA/2015_Air_quality_in_northern_Taiwan.csv')\n",
        "df\n",
        "\n",
        "df['month'] = pd.DatetimeIndex(df['time']).month\n",
        "df['time_hours'] = pd.DatetimeIndex(df['time']).time\n",
        "df\n",
        "\n",
        "df.replace( '', float('nan') ,inplace=True)\n",
        "df.replace( '0', float('nan') ,inplace=True)\n",
        "df.replace('.#$', float('nan') ,inplace=True, regex=True)\n",
        "df.replace('.x$', float('nan') ,inplace=True, regex=True)\n",
        "df = df.dropna()\n",
        "df\n",
        "\n",
        "\n",
        "\n",
        "df['WIND_SPEED'] = df['WIND_SPEED'].astype(float)\n",
        "df['WIND_SPEED']\n",
        "\n",
        "\n",
        "new_dataframe = df.groupby(['month','time_hours'])['WIND_SPEED'].max().reset_index()\n",
        "new_dataframe\n",
        "\n",
        "#predefined code end\n",
        "\n",
        "#using the plt.figure() function, set the size of the plotting area by mentioning the width and height for the figsize parameter.\n",
        "plt.figure(figsize=(10,8))\n",
        "#using the pd alias access the pivot_table() function, and inside it set the following parameters:\n",
        "#values as Wind_Speed column\n",
        "#index as 'time_hours' column\n",
        "#columns as 'month'column\n",
        "#data as the new_dataframe\n",
        "#and save all this in variable df_heatmap\n",
        "df_heatmap = pd.pivot_table(values ='WIND_SPEED', index ='time_hours',  \n",
        "                    columns ='month', data = new_dataframe)\n",
        "\n",
        "#using the sns library access the function heatmap(), and inside the function set the parameters as\n",
        "#df_heatmap for the dataframe to be used\n",
        "#cmap=  (you can set the color for cmap from the given link - https://matplotlib.org/3.1.1/gallery/color/colormap_reference.html)\n",
        "sns.heatmap(df_heatmap, cmap ='autumn') "
      ],
      "execution_count": null,
      "outputs": [
        {
          "output_type": "stream",
          "text": [
            "/usr/local/lib/python3.6/dist-packages/IPython/core/interactiveshell.py:2718: DtypeWarning: Columns (10,14,18) have mixed types.Specify dtype option on import or set low_memory=False.\n",
            "  interactivity=interactivity, compiler=compiler, result=result)\n"
          ],
          "name": "stderr"
        },
        {
          "output_type": "execute_result",
          "data": {
            "text/plain": [
              "<matplotlib.axes._subplots.AxesSubplot at 0x7feb2e4cfb00>"
            ]
          },
          "metadata": {
            "tags": []
          },
          "execution_count": 2
        },
        {
          "output_type": "display_data",
          "data": {
            "image/png": "[encoded data removed]",
            "text/plain": [
              "<Figure size 720x576 with 2 Axes>"
            ]
          },
          "metadata": {
            "tags": [],
            "needs_background": "light"
          }
        }
      ]
    },
    {
      "cell_type": "code",
      "metadata": {
        "id": "NVo9HndYN1IB"
      },
      "source": [
        ""
      ],
      "execution_count": null,
      "outputs": []
    }
  ]
}