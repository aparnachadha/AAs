{
  "nbformat": 4,
  "nbformat_minor": 0,
  "metadata": {
    "colab": {
      "name": "ADV_C199.5(Solution).ipynb",
      "provenance": [],
      "collapsed_sections": [],
      "include_colab_link": true
    },
    "kernelspec": {
      "name": "python3",
      "display_name": "Python 3"
    },
    "widgets": {
      "application/vnd.jupyter.widget-state+json": {
        "9a5ed621be9a45fca2156f50741d0d43": {
          "model_module": "@jupyter-widgets/controls",
          "model_name": "TextModel",
          "state": {
            "_view_name": "TextView",
            "style": "IPY_MODEL_b852d20f48064f9982332b4a604b2840",
            "_dom_classes": [],
            "description": "",
            "_model_name": "TextModel",
            "placeholder": "​",
            "_view_module": "@jupyter-widgets/controls",
            "_model_module_version": "1.5.0",
            "value": "5",
            "_view_count": null,
            "disabled": false,
            "_view_module_version": "1.5.0",
            "continuous_update": true,
            "description_tooltip": null,
            "_model_module": "@jupyter-widgets/controls",
            "layout": "IPY_MODEL_ef81dfee734242a687cf4a0cac371ce8"
          },
          "model_module_version": "1.5.0"
        },
        "b852d20f48064f9982332b4a604b2840": {
          "model_module": "@jupyter-widgets/controls",
          "model_name": "DescriptionStyleModel",
          "state": {
            "_view_name": "StyleView",
            "_model_name": "DescriptionStyleModel",
            "description_width": "",
            "_view_module": "@jupyter-widgets/base",
            "_model_module_version": "1.5.0",
            "_view_count": null,
            "_view_module_version": "1.2.0",
            "_model_module": "@jupyter-widgets/controls"
          },
          "model_module_version": "1.5.0"
        },
        "ef81dfee734242a687cf4a0cac371ce8": {
          "model_module": "@jupyter-widgets/base",
          "model_name": "LayoutModel",
          "state": {
            "_view_name": "LayoutView",
            "grid_template_rows": null,
            "right": null,
            "justify_content": null,
            "_view_module": "@jupyter-widgets/base",
            "overflow": null,
            "_model_module_version": "1.2.0",
            "_view_count": null,
            "flex_flow": null,
            "width": null,
            "min_width": null,
            "border": null,
            "align_items": null,
            "bottom": null,
            "_model_module": "@jupyter-widgets/base",
            "top": null,
            "grid_column": null,
            "overflow_y": null,
            "overflow_x": null,
            "grid_auto_flow": null,
            "grid_area": null,
            "grid_template_columns": null,
            "flex": null,
            "_model_name": "LayoutModel",
            "justify_items": null,
            "grid_row": null,
            "max_height": null,
            "align_content": null,
            "visibility": null,
            "align_self": null,
            "height": null,
            "min_height": null,
            "padding": null,
            "grid_auto_rows": null,
            "grid_gap": null,
            "max_width": null,
            "order": null,
            "_view_module_version": "1.2.0",
            "grid_template_areas": null,
            "object_position": null,
            "object_fit": null,
            "grid_auto_columns": null,
            "margin": null,
            "display": null,
            "left": null
          },
          "model_module_version": "1.2.0"
        },
        "3090daef8eb949e09b456d451bc03bd8": {
          "model_module": "@jupyter-widgets/controls",
          "model_name": "ButtonModel",
          "state": {
            "_view_name": "ButtonView",
            "style": "IPY_MODEL_760b450ab55247819b8221f6b3571975",
            "_dom_classes": [],
            "description": "Show Table",
            "_model_name": "ButtonModel",
            "button_style": "",
            "_view_module": "@jupyter-widgets/controls",
            "_model_module_version": "1.5.0",
            "tooltip": "",
            "_view_count": null,
            "disabled": false,
            "_view_module_version": "1.5.0",
            "layout": "IPY_MODEL_c58d9cc5ba69456d8ee49d7e0321e6c3",
            "_model_module": "@jupyter-widgets/controls",
            "icon": ""
          },
          "model_module_version": "1.5.0"
        },
        "760b450ab55247819b8221f6b3571975": {
          "model_module": "@jupyter-widgets/controls",
          "model_name": "ButtonStyleModel",
          "state": {
            "_view_name": "StyleView",
            "_model_name": "ButtonStyleModel",
            "_view_module": "@jupyter-widgets/base",
            "_model_module_version": "1.5.0",
            "_view_count": null,
            "button_color": null,
            "font_weight": "",
            "_view_module_version": "1.2.0",
            "_model_module": "@jupyter-widgets/controls"
          },
          "model_module_version": "1.5.0"
        },
        "c58d9cc5ba69456d8ee49d7e0321e6c3": {
          "model_module": "@jupyter-widgets/base",
          "model_name": "LayoutModel",
          "state": {
            "_view_name": "LayoutView",
            "grid_template_rows": null,
            "right": null,
            "justify_content": null,
            "_view_module": "@jupyter-widgets/base",
            "overflow": null,
            "_model_module_version": "1.2.0",
            "_view_count": null,
            "flex_flow": null,
            "width": null,
            "min_width": null,
            "border": null,
            "align_items": null,
            "bottom": null,
            "_model_module": "@jupyter-widgets/base",
            "top": null,
            "grid_column": null,
            "overflow_y": null,
            "overflow_x": null,
            "grid_auto_flow": null,
            "grid_area": null,
            "grid_template_columns": null,
            "flex": null,
            "_model_name": "LayoutModel",
            "justify_items": null,
            "grid_row": null,
            "max_height": null,
            "align_content": null,
            "visibility": null,
            "align_self": null,
            "height": null,
            "min_height": null,
            "padding": null,
            "grid_auto_rows": null,
            "grid_gap": null,
            "max_width": null,
            "order": null,
            "_view_module_version": "1.2.0",
            "grid_template_areas": null,
            "object_position": null,
            "object_fit": null,
            "grid_auto_columns": null,
            "margin": null,
            "display": null,
            "left": null
          },
          "model_module_version": "1.2.0"
        }
      }
    }
  },
  "cells": [
    {
      "cell_type": "markdown",
      "metadata": {
        "id": "view-in-github",
        "colab_type": "text"
      },
      "source": [
        "<a href=\"https://colab.research.google.com/github/aparnachadha/AAs/blob/main/ADV_C199_5(Solution).ipynb\" target=\"_parent\"><img src=\"https://colab.research.google.com/assets/colab-badge.svg\" alt=\"Open In Colab\"/></a>"
      ]
    },
    {
      "cell_type": "code",
      "metadata": {
        "id": "7ruftbareIp2",
        "colab": {
          "base_uri": "https://localhost:8080/",
          "height": 251,
          "referenced_widgets": [
            "9a5ed621be9a45fca2156f50741d0d43",
            "b852d20f48064f9982332b4a604b2840",
            "ef81dfee734242a687cf4a0cac371ce8",
            "3090daef8eb949e09b456d451bc03bd8",
            "760b450ab55247819b8221f6b3571975",
            "c58d9cc5ba69456d8ee49d7e0321e6c3"
          ]
        },
        "outputId": "9774f48a-7f5b-415d-9fa9-d77226d08ed4"
      },
      "source": [
        "#AA5-Generate a Table by taking a number input from the user and the table should get display on click of the button.\n",
        "from ipywidgets import widgets\n",
        "from IPython.display import display\n",
        "#we have defined a variable input_text, and inside it we have stored an input box, this input box is created using the widgets.Text() function.\n",
        "input_text = widgets.Text()\n",
        "#using the display() function display the input_text variable to display the input box on the console.\n",
        "display(input_text)\n",
        "\n",
        "#define a function table, and inside it pass the parameter as b, this b will generate an event, when the function is called, on click of the button.\n",
        "def table(b):\n",
        "    #declare the input_text as global to use it inside the function\n",
        "    global input_text\n",
        "    #using for loop, create numbers in range 1 to 11 and retrive the values one by one and store in variable i.\n",
        "    for i in range(1,11):\n",
        "        #using the print() function print the table, for this inside the print() function, first write: int(input_text.value) after giving coma write \"X\" after coma, write i, then \"-\", then write i*int(input_text.value)\n",
        "        print(int(input_text.value), \" X \"  ,i, \"=\" , i*int(input_text.value))\n",
        "\n",
        "#now, define  a variable btn, and inside it store the button component. So create a Button component, using the widgets.Button() function and inside it set the discription parameter to a string \"Show Table\".    \n",
        "btn= widgets.Button(description=\"Show Table\")\n",
        "#now using the variable btn which holds the button component, access the on_click() function and inside it pass the function name table\n",
        "btn.on_click(table) \n",
        "#using the display() function call the btn variable to display the button on the output cell.\n",
        "display(btn)"
      ],
      "execution_count": null,
      "outputs": [
        {
          "output_type": "display_data",
          "data": {
            "application/vnd.jupyter.widget-view+json": {
              "model_id": "9a5ed621be9a45fca2156f50741d0d43",
              "version_minor": 0,
              "version_major": 2
            },
            "text/plain": [
              "Text(value='')"
            ]
          },
          "metadata": {
            "tags": []
          }
        },
        {
          "output_type": "display_data",
          "data": {
            "application/vnd.jupyter.widget-view+json": {
              "model_id": "3090daef8eb949e09b456d451bc03bd8",
              "version_minor": 0,
              "version_major": 2
            },
            "text/plain": [
              "Button(description='Show Table', style=ButtonStyle())"
            ]
          },
          "metadata": {
            "tags": []
          }
        },
        {
          "output_type": "stream",
          "text": [
            "5  X  1 = 5\n",
            "5  X  2 = 10\n",
            "5  X  3 = 15\n",
            "5  X  4 = 20\n",
            "5  X  5 = 25\n",
            "5  X  6 = 30\n",
            "5  X  7 = 35\n",
            "5  X  8 = 40\n",
            "5  X  9 = 45\n",
            "5  X  10 = 50\n"
          ],
          "name": "stdout"
        }
      ]
    }
  ]
}