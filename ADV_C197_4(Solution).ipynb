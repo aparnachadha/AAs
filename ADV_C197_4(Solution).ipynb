{
  "nbformat": 4,
  "nbformat_minor": 0,
  "metadata": {
    "colab": {
      "name": "ADV-C197.4(Solution).ipynb",
      "provenance": [],
      "collapsed_sections": []
    },
    "kernelspec": {
      "name": "python3",
      "display_name": "Python 3"
    }
  },
  "cells": [
    {
      "cell_type": "code",
      "metadata": {
        "colab": {
          "base_uri": "https://localhost:8080/",
          "height": 473
        },
        "id": "KqpFjPDGBf4I",
        "outputId": "f57fb23d-fbf0-439a-b4b2-f9d61421ce20"
      },
      "source": [
        "#Activity 4- group by month and time and get the maximum wind direction in degrees\n",
        "#predefined Start\n",
        "import pandas as pd\n",
        "import matplotlib.pyplot as plt\n",
        "import seaborn as sns \n",
        "\n",
        "df = pd.read_csv('https://shravantihable.github.io/AA/2015_Air_quality_in_northern_Taiwan.csv')\n",
        "df\n",
        "\n",
        "df['month'] = pd.DatetimeIndex(df['time']).month\n",
        "df['time_hours'] = pd.DatetimeIndex(df['time']).time\n",
        "df\n",
        "\n",
        "df.replace( '', float('nan') ,inplace=True)\n",
        "df.replace( '0', float('nan') ,inplace=True)\n",
        "df.replace('.#$', float('nan') ,inplace=True, regex=True)\n",
        "df.replace('.x$', float('nan') ,inplace=True, regex=True)\n",
        "df = df.dropna()\n",
        "df\n",
        "#predefined end\n",
        "\n",
        "\n",
        "#define a variable new_dataframe, group the values of month and time_hours column using groupby() function, add one more column [''WIND_DIREC''] and using the '.' operator access the max function and reset the index to 0.\n",
        "new_dataframe = df.groupby(['month','time_hours'])['WIND_DIREC'].max().reset_index()\n",
        "#print the variable new_dataframe \n",
        "new_dataframe \n",
        "\n",
        "\n",
        "\n",
        "\n",
        "\n"
      ],
      "execution_count": null,
      "outputs": [
        {
          "output_type": "stream",
          "text": [
            "/usr/local/lib/python3.6/dist-packages/IPython/core/interactiveshell.py:2718: DtypeWarning: Columns (10,14,18) have mixed types.Specify dtype option on import or set low_memory=False.\n",
            "  interactivity=interactivity, compiler=compiler, result=result)\n"
          ],
          "name": "stderr"
        },
        {
          "output_type": "execute_result",
          "data": {
            "text/html": [
              "<div>\n",
              "<style scoped>\n",
              "    .dataframe tbody tr th:only-of-type {\n",
              "        vertical-align: middle;\n",
              "    }\n",
              "\n",
              "    .dataframe tbody tr th {\n",
              "        vertical-align: top;\n",
              "    }\n",
              "\n",
              "    .dataframe thead th {\n",
              "        text-align: right;\n",
              "    }\n",
              "</style>\n",
              "<table border=\"1\" class=\"dataframe\">\n",
              "  <thead>\n",
              "    <tr style=\"text-align: right;\">\n",
              "      <th></th>\n",
              "      <th>month</th>\n",
              "      <th>time_hours</th>\n",
              "      <th>WIND_DIREC</th>\n",
              "    </tr>\n",
              "  </thead>\n",
              "  <tbody>\n",
              "    <tr>\n",
              "      <th>0</th>\n",
              "      <td>1</td>\n",
              "      <td>05:00:00</td>\n",
              "      <td>255</td>\n",
              "    </tr>\n",
              "    <tr>\n",
              "      <th>1</th>\n",
              "      <td>1</td>\n",
              "      <td>06:00:00</td>\n",
              "      <td>325</td>\n",
              "    </tr>\n",
              "    <tr>\n",
              "      <th>2</th>\n",
              "      <td>1</td>\n",
              "      <td>07:00:00</td>\n",
              "      <td>89</td>\n",
              "    </tr>\n",
              "    <tr>\n",
              "      <th>3</th>\n",
              "      <td>1</td>\n",
              "      <td>08:00:00</td>\n",
              "      <td>99</td>\n",
              "    </tr>\n",
              "    <tr>\n",
              "      <th>4</th>\n",
              "      <td>1</td>\n",
              "      <td>09:00:00</td>\n",
              "      <td>89</td>\n",
              "    </tr>\n",
              "    <tr>\n",
              "      <th>...</th>\n",
              "      <td>...</td>\n",
              "      <td>...</td>\n",
              "      <td>...</td>\n",
              "    </tr>\n",
              "    <tr>\n",
              "      <th>159</th>\n",
              "      <td>12</td>\n",
              "      <td>13:00:00</td>\n",
              "      <td>91</td>\n",
              "    </tr>\n",
              "    <tr>\n",
              "      <th>160</th>\n",
              "      <td>12</td>\n",
              "      <td>14:00:00</td>\n",
              "      <td>88</td>\n",
              "    </tr>\n",
              "    <tr>\n",
              "      <th>161</th>\n",
              "      <td>12</td>\n",
              "      <td>15:00:00</td>\n",
              "      <td>97</td>\n",
              "    </tr>\n",
              "    <tr>\n",
              "      <th>162</th>\n",
              "      <td>12</td>\n",
              "      <td>16:00:00</td>\n",
              "      <td>95</td>\n",
              "    </tr>\n",
              "    <tr>\n",
              "      <th>163</th>\n",
              "      <td>12</td>\n",
              "      <td>17:00:00</td>\n",
              "      <td>87</td>\n",
              "    </tr>\n",
              "  </tbody>\n",
              "</table>\n",
              "<p>164 rows × 3 columns</p>\n",
              "</div>"
            ],
            "text/plain": [
              "     month time_hours WIND_DIREC\n",
              "0        1   05:00:00        255\n",
              "1        1   06:00:00        325\n",
              "2        1   07:00:00         89\n",
              "3        1   08:00:00         99\n",
              "4        1   09:00:00         89\n",
              "..     ...        ...        ...\n",
              "159     12   13:00:00         91\n",
              "160     12   14:00:00         88\n",
              "161     12   15:00:00         97\n",
              "162     12   16:00:00         95\n",
              "163     12   17:00:00         87\n",
              "\n",
              "[164 rows x 3 columns]"
            ]
          },
          "metadata": {
            "tags": []
          },
          "execution_count": 6
        }
      ]
    },
    {
      "cell_type": "code",
      "metadata": {
        "id": "6qW9WT1pBr2r"
      },
      "source": [
        "\n"
      ],
      "execution_count": null,
      "outputs": []
    },
    {
      "cell_type": "code",
      "metadata": {
        "id": "JjtgjrH9B6mb"
      },
      "source": [
        ""
      ],
      "execution_count": null,
      "outputs": []
    }
  ]
}