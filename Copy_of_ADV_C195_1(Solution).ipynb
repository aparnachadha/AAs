{
  "nbformat": 4,
  "nbformat_minor": 0,
  "metadata": {
    "colab": {
      "name": "Copy of ADV_C195.1(Solution)",
      "provenance": [],
      "collapsed_sections": []
    },
    "kernelspec": {
      "name": "python3",
      "display_name": "Python 3"
    }
  },
  "cells": [
    {
      "cell_type": "code",
      "metadata": {
        "colab": {
          "base_uri": "https://localhost:8080/",
          "height": 328
        },
        "id": "wGIUbncdCbAd",
        "outputId": "8e6659da-8101-4451-e251-52ea3651f315"
      },
      "source": [
        "#Additional-Activity 1\n",
        "#Fetch the months from Date column and add a new column\n",
        "#Group by Events column and find the maximum accurance of an event in a month \n",
        "\n",
        "#predefine code\n",
        "import pandas as pd\n",
        "import matplotlib.pyplot as plt \n",
        "\n",
        "df = pd.read_csv('https://shravantihable.github.io/AA/austin_weather.csv')\n",
        "df\n",
        "#predefine code ends\n",
        "\n",
        "#using the pd.DatetimeIndex() function, fetch the month from the 'Date' column. Do this by writing the df['Date'] inside pd.DatetimeIndex() function and store it in a variable df['month'].\n",
        "df['month'] = pd.DatetimeIndex(df['Date']).month\n",
        "#print variable df\n",
        "df\n",
        "\n",
        "#apply the groupby functionality on 'Events' column, add a column 'month' and apply max functionality on it, and reset the index to 0.\n",
        "group_by_month = df.groupby('Events')['month'].max().reset_index()\n",
        "#print the variable group_by_month\n",
        "group_by_month"
      ],
      "execution_count": null,
      "outputs": [
        {
          "output_type": "execute_result",
          "data": {
            "text/html": [
              "<div>\n",
              "<style scoped>\n",
              "    .dataframe tbody tr th:only-of-type {\n",
              "        vertical-align: middle;\n",
              "    }\n",
              "\n",
              "    .dataframe tbody tr th {\n",
              "        vertical-align: top;\n",
              "    }\n",
              "\n",
              "    .dataframe thead th {\n",
              "        text-align: right;\n",
              "    }\n",
              "</style>\n",
              "<table border=\"1\" class=\"dataframe\">\n",
              "  <thead>\n",
              "    <tr style=\"text-align: right;\">\n",
              "      <th></th>\n",
              "      <th>Events</th>\n",
              "      <th>month</th>\n",
              "    </tr>\n",
              "  </thead>\n",
              "  <tbody>\n",
              "    <tr>\n",
              "      <th>0</th>\n",
              "      <td></td>\n",
              "      <td>12</td>\n",
              "    </tr>\n",
              "    <tr>\n",
              "      <th>1</th>\n",
              "      <td>Fog</td>\n",
              "      <td>12</td>\n",
              "    </tr>\n",
              "    <tr>\n",
              "      <th>2</th>\n",
              "      <td>Fog , Rain</td>\n",
              "      <td>12</td>\n",
              "    </tr>\n",
              "    <tr>\n",
              "      <th>3</th>\n",
              "      <td>Fog , Rain , Thunderstorm</td>\n",
              "      <td>11</td>\n",
              "    </tr>\n",
              "    <tr>\n",
              "      <th>4</th>\n",
              "      <td>Fog , Thunderstorm</td>\n",
              "      <td>4</td>\n",
              "    </tr>\n",
              "    <tr>\n",
              "      <th>5</th>\n",
              "      <td>Rain</td>\n",
              "      <td>12</td>\n",
              "    </tr>\n",
              "    <tr>\n",
              "      <th>6</th>\n",
              "      <td>Rain , Snow</td>\n",
              "      <td>1</td>\n",
              "    </tr>\n",
              "    <tr>\n",
              "      <th>7</th>\n",
              "      <td>Rain , Thunderstorm</td>\n",
              "      <td>12</td>\n",
              "    </tr>\n",
              "    <tr>\n",
              "      <th>8</th>\n",
              "      <td>Thunderstorm</td>\n",
              "      <td>10</td>\n",
              "    </tr>\n",
              "  </tbody>\n",
              "</table>\n",
              "</div>"
            ],
            "text/plain": [
              "                      Events  month\n",
              "0                                12\n",
              "1                        Fog     12\n",
              "2                 Fog , Rain     12\n",
              "3  Fog , Rain , Thunderstorm     11\n",
              "4         Fog , Thunderstorm      4\n",
              "5                       Rain     12\n",
              "6                Rain , Snow      1\n",
              "7        Rain , Thunderstorm     12\n",
              "8               Thunderstorm     10"
            ]
          },
          "metadata": {
            "tags": []
          },
          "execution_count": 1
        }
      ]
    }
  ]
}