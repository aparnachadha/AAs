{
  "nbformat": 4,
  "nbformat_minor": 0,
  "metadata": {
    "colab": {
      "name": "ADV_C197_5(Solution).ipynb",
      "provenance": [],
      "collapsed_sections": [],
      "include_colab_link": true
    },
    "kernelspec": {
      "name": "python3",
      "display_name": "Python 3"
    }
  },
  "cells": [
    {
      "cell_type": "markdown",
      "metadata": {
        "id": "view-in-github",
        "colab_type": "text"
      },
      "source": [
        "<a href=\"https://colab.research.google.com/github/aparnachadha/AAs/blob/main/ADV_C197_5(Solution).ipynb\" target=\"_parent\"><img src=\"https://colab.research.google.com/assets/colab-badge.svg\" alt=\"Open In Colab\"/></a>"
      ]
    },
    {
      "cell_type": "code",
      "metadata": {
        "colab": {
          "base_uri": "https://localhost:8080/",
          "height": 349
        },
        "id": "4wULXTBkWfER",
        "outputId": "f2a1391c-07ac-4a66-c793-99bc01f9832a"
      },
      "source": [
        "#Activity 5 - #plot a Histogram showing the direction of maximum wind .\n",
        "#predefined code Start\n",
        "import pandas as pd\n",
        "import matplotlib.pyplot as plt\n",
        "import seaborn as sns \n",
        "\n",
        "df = pd.read_csv('https://shravantihable.github.io/AA/2015_Air_quality_in_northern_Taiwan.csv')\n",
        "df\n",
        "\n",
        "df['month'] = pd.DatetimeIndex(df['time']).month\n",
        "df['time_hours'] = pd.DatetimeIndex(df['time']).time\n",
        "df\n",
        "\n",
        "df.replace( '', float('nan') ,inplace=True)\n",
        "df.replace( '0', float('nan') ,inplace=True)\n",
        "df.replace('.#$', float('nan') ,inplace=True, regex=True)\n",
        "df.replace('.x$', float('nan') ,inplace=True, regex=True)\n",
        "df = df.dropna()\n",
        "df\n",
        "\n",
        "new_dataframe = df.groupby(['month','time_hours'])['WIND_DIREC'].max().reset_index()\n",
        "new_dataframe \n",
        "#predefined code ends\n",
        "\n",
        "\n",
        "#plotting histogram\n",
        "#using the plt.hist() function plot the histogram, by setting the following parameters:\n",
        "#new_dataframe ['WIND_DIREC'].head(25)- fetch the first 25 values of the column WIND_DIREC\n",
        "#bins= 10- set the bins in pixel\n",
        "#label- set the label of x and y axis\n",
        "plt.hist(new_dataframe ['WIND_DIREC'].head(25), bins=10, label=\"Wind Direction\")\n",
        "\n",
        "#using the plt.title() function, give the title to the histogram.\n",
        "plt.title(\"Maximum Wind Direction \")\n",
        "#using the plt.ylabel, set the label for y-axis.\n",
        "plt.ylabel(\"Count\")\n",
        "#using the xlabel, set the label for x-axis\n",
        "plt.xlabel(\"Direction Of the wind in Degrees\")\n",
        "\n",
        "plt.legend()\n",
        "plt.show()\n"
      ],
      "execution_count": null,
      "outputs": [
        {
          "output_type": "stream",
          "text": [
            "/usr/local/lib/python3.6/dist-packages/IPython/core/interactiveshell.py:2718: DtypeWarning: Columns (10,14,18) have mixed types.Specify dtype option on import or set low_memory=False.\n",
            "  interactivity=interactivity, compiler=compiler, result=result)\n"
          ],
          "name": "stderr"
        },
        {
          "output_type": "display_data",
          "data": {
            "image/png": "[encoded data removed]",
            "text/plain": [
              "<Figure size 432x288 with 1 Axes>"
            ]
          },
          "metadata": {
            "tags": [],
            "needs_background": "light"
          }
        }
      ]
    },
    {
      "cell_type": "code",
      "metadata": {
        "id": "zQU822jBYy3z"
      },
      "source": [
        ""
      ],
      "execution_count": null,
      "outputs": []
    }
  ]
}