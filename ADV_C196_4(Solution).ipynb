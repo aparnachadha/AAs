{
  "nbformat": 4,
  "nbformat_minor": 0,
  "metadata": {
    "colab": {
      "name": "ADV_C196.4(Solution).ipynb",
      "provenance": [],
      "collapsed_sections": []
    },
    "kernelspec": {
      "name": "python3",
      "display_name": "Python 3"
    }
  },
  "cells": [
    {
      "cell_type": "code",
      "metadata": {
        "colab": {
          "base_uri": "https://localhost:8080/",
          "height": 458
        },
        "id": "ALL1Fuw_jJoc",
        "outputId": "3c495bcc-b448-4d5c-a5ef-ce3c57884bfa"
      },
      "source": [
        "#Additional Activity 4\n",
        "#plotting the histogram for the cabin crew members of different age groups who survived. \n",
        "#predefine code\n",
        "#import the required packages \n",
        "import pandas as pd\n",
        "import matplotlib.pyplot as plt\n",
        "#Read the csv file.\n",
        "df = pd.read_csv(\"https://shravantihable.github.io/AA/titanic_crew_info.csv\")\n",
        "df\n",
        "df = df.dropna()\n",
        "df\n",
        "new_df = df.loc[df['Survived'] == 1.0]\n",
        "new_df\n",
        "#predefine code ends\n",
        "\n",
        "#setting the size of figure - using the plt.figure() function set the figsize by taking the width and height of your choice.\n",
        "plt.figure(figsize=(7,7))\n",
        "#using the plt.hist() function, plot the histogram for the cabin crew members, for this set the below parameters inside the plt.hist() function\n",
        "#access the 'Age' column of new_df data frame, then add the '.' operator and access the head() function to get the first 50 crew members\n",
        "#set the bins upto 10 range\n",
        "#set the label as 'Age'\n",
        "plt.hist(new_df['Age'].head(50), bins=10, label=\"Age\")\n",
        "\n",
        "#using the plt.title() function give the title to graph plot.\n",
        "plt.title(\"Survived crew age group \")\n",
        "#using the plt.ylabel() function give the label to y-axis of graph plot.\n",
        "plt.ylabel(\"Survived\")\n",
        "#using the plt.xlabel() function give the label to x-axis of graph plot.\n",
        "plt.xlabel(\"Age group\")\n",
        "#using the plt.legend() function set the legend to the graph.\n",
        "plt.legend()\n",
        "plt.show()"
      ],
      "execution_count": null,
      "outputs": [
        {
          "output_type": "display_data",
          "data": {
            "image/png": "[encoded data removed]",
            "text/plain": [
              "<Figure size 504x504 with 1 Axes>"
            ]
          },
          "metadata": {
            "tags": [],
            "needs_background": "light"
          }
        }
      ]
    },
    {
      "cell_type": "code",
      "metadata": {
        "id": "-yGSc5ho0nNG"
      },
      "source": [
        ""
      ],
      "execution_count": null,
      "outputs": []
    }
  ]
}