{
  "nbformat": 4,
  "nbformat_minor": 0,
  "metadata": {
    "colab": {
      "name": "ADV_C196_5.ipynb",
      "provenance": [],
      "collapsed_sections": [],
      "include_colab_link": true
    },
    "kernelspec": {
      "name": "python3",
      "display_name": "Python 3"
    }
  },
  "cells": [
    {
      "cell_type": "markdown",
      "metadata": {
        "id": "view-in-github",
        "colab_type": "text"
      },
      "source": [
        "<a href=\"https://colab.research.google.com/github/aparnachadha/AAs/blob/main/ADV_C196_5.ipynb\" target=\"_parent\"><img src=\"https://colab.research.google.com/assets/colab-badge.svg\" alt=\"Open In Colab\"/></a>"
      ]
    },
    {
      "cell_type": "code",
      "metadata": {
        "colab": {
          "base_uri": "https://localhost:8080/",
          "height": 306
        },
        "id": "CMyD6sr88i2s",
        "outputId": "f16debda-b980-45e7-af89-c064e2ee0c15"
      },
      "source": [
        "#Additional Activity 5\n",
        "#plot the bar graph for showing crew members who died at differnt positions in titanic ship.\n",
        "#predefine code start\n",
        "import pandas as pd\n",
        "import matplotlib.pyplot as plt\n",
        "\n",
        "df = pd.read_csv('https://shravantihable.github.io/AA/titanic_crew_info.csv')\n",
        "df\n",
        "#predefine code ends\n",
        "\n",
        "#check the cabin crew members who died. For this , using the dataframe df apply the function loc[], and inside it using the df dataframe access the 'Survived' column and check the value is equal to 0.0 and save it in variable survived.\n",
        "\n",
        "#print the variable survived\n",
        "\n",
        "\n",
        "#On the survived variable apply the groupby() function and inside it call the 'Position' column and add one more column ['Name'] and apply count functionality on it and reset the index to 0\n",
        "#print the variable group_position\n",
        "\n",
        "\n",
        "#define a variable value and inside it store the values of the column ['Name'] of data frame  group_position\n",
        "\n",
        "#define a variable label and inside it store the values of the column ['Position'] of data frame  group_position\n",
        "\n",
        "\n",
        "#set the figure size for the plot, using the plt.figure() function and inside it mention the width and height for figsize\n",
        "\n",
        "\n",
        "#predefine code\n",
        "plt.xlabel(\"Position\")\n",
        "plt.xticks(rotation='vertical')\n",
        "plt.ylabel(\"Deaths\")\n",
        "#predefine code end\n",
        "\n",
        "#using the plt.bar() function plot the bar graph and set the following parameters:\n",
        "#label\n",
        "#value\n",
        "#width\n",
        "#colour as per you.\n",
        " #bar-grap\n"
      ],
      "execution_count": null,
      "outputs": [
        {
          "output_type": "execute_result",
          "data": {
            "text/plain": [
              "Text(0, 0.5, 'Deaths')"
            ]
          },
          "metadata": {
            "tags": []
          },
          "execution_count": 1
        },
        {
          "output_type": "display_data",
          "data": {
            "image/png": "[encoded data removed]",
            "text/plain": [
              "<Figure size 432x288 with 1 Axes>"
            ]
          },
          "metadata": {
            "tags": [],
            "needs_background": "light"
          }
        }
      ]
    }
  ]
}