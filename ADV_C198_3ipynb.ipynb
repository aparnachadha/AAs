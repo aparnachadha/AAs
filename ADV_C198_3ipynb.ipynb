{
  "nbformat": 4,
  "nbformat_minor": 0,
  "metadata": {
    "colab": {
      "name": "ADV-C198_3ipynb",
      "provenance": [],
      "include_colab_link": true
    },
    "kernelspec": {
      "name": "python3",
      "display_name": "Python 3"
    }
  },
  "cells": [
    {
      "cell_type": "markdown",
      "metadata": {
        "id": "view-in-github",
        "colab_type": "text"
      },
      "source": [
        "<a href=\"https://colab.research.google.com/github/aparnachadha/AAs/blob/main/ADV_C198_3ipynb.ipynb\" target=\"_parent\"><img src=\"https://colab.research.google.com/assets/colab-badge.svg\" alt=\"Open In Colab\"/></a>"
      ]
    },
    {
      "cell_type": "code",
      "metadata": {
        "id": "c3CWfHzrdL_j"
      },
      "source": [
        "#Task Description : plot a line graph to show Top 5 Energy Consumption States\n",
        "import pandas as pd\n",
        "import matplotlib.pyplot as plt \n",
        "\n",
        "pd.set_option('display.max_columns', None)\n",
        "df = pd.read_csv('https://shravaripatil.github.io/ADV/AA/Energy_Census_and_Economic_Data%20US_2010-2014.csv')\n",
        "df.head(10)\n",
        "sorted_consumption_df = df.sort_values('TotalC2014')\n",
        "top5_consumption = sorted_consumption_df.head(5)\n",
        "top5_consumption\n",
        "\n",
        "#using the plt.figure() function, set the size of the plotting area by mentioning the width and height for the figsize parameter.\n",
        "\n",
        "\n",
        "# set the label for the x axis values as 'States' (Hint - Use xlabel() function of pyplot module and pass the label in string format)\n",
        "\n",
        "\n",
        "# set the label for the y axis values as 'Energy' (Hint - Use ylabel() function of pyplot module and pass the label in string format)\n",
        "\n",
        "\n",
        "# Set the x ticks direction to vertical (Hint - Use xticks() function of pyplot module and pass the direction in string format to rotation parameter of this function)\n",
        "\n",
        "\n",
        "# Set the title of the plot (Hint - Use title() function of the pyplot module and pass the direction in string format)\n",
        "\n",
        "# Draw the line graph \n",
        "# Use plot() function of the pyplot module and pass the following parameters \n",
        "    # x values - Assign this parameter 'state' names of US (Hint - Access the 'State' column of the dataframe , the dataframe is stored in the top5_consumption variable. )\n",
        "    # y values - Assign this parameter values of 'TotalC2014'  (Hint - Access the 'values' column of the dataframe , the dataframe is stored in the top5_consumption variable. )\n",
        "    # linewidth - set the line width \n",
        "\n",
        "# Display the plot (Hint - Use show() function of pyplot module to display the plot)\n"
      ],
      "execution_count": null,
      "outputs": []
    }
  ]
}