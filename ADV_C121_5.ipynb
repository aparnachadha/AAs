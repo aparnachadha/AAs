{
  "nbformat": 4,
  "nbformat_minor": 0,
  "metadata": {
    "colab": {
      "name": "ADV-C121.5.ipynb",
      "provenance": [],
      "include_colab_link": true
    },
    "kernelspec": {
      "name": "python3",
      "display_name": "Python 3"
    }
  },
  "cells": [
    {
      "cell_type": "markdown",
      "metadata": {
        "id": "view-in-github",
        "colab_type": "text"
      },
      "source": [
        "<a href=\"https://colab.research.google.com/github/aparnachadha/AAs/blob/main/ADV_C121_5.ipynb\" target=\"_parent\"><img src=\"https://colab.research.google.com/assets/colab-badge.svg\" alt=\"Open In Colab\"/></a>"
      ]
    },
    {
      "cell_type": "code",
      "metadata": {
        "id": "VgONO150gV5c"
      },
      "source": [
        "#Activity 5: Create a color picker widget, and apply the picked color to the bar chart.\n",
        "from ipywidgets import widgets\n",
        "from IPython.display import display, clear_output\n",
        "import pandas as pd\n",
        "import matplotlib.pyplot as plt \n",
        "\n",
        "\n",
        "df = pd.read_csv(\"https://shravantihable.github.io/AA/percentage.csv\")\n",
        "def select_cols(b):\n",
        "    clear_output()\n",
        "    global df\n",
        "    print(df)\n",
        "    x= widgets.RadioButtons(options=df.columns)\n",
        "    y= widgets.RadioButtons(options=df.columns)\n",
        "    #create a color Picker using the widgets.ColorPicker() function, and set the two parameters:\n",
        "    #description - any suitable description to the color picker\n",
        "    #value- any color which you desire to be added on the bar graph.\n",
        "   \n",
        "    #define a variable graph, and inside it link all the widgets, using the widgets.interactive() function and set the below parameters\n",
        "    #plot_graph\n",
        "    #x_axis=x\n",
        "    #y_axis=y\n",
        "    #colors= c\n",
        "\n",
        "    \n",
        "    display(graph)\n",
        "    \n",
        "fileselect = widgets.Button(description=\"File select\")\n",
        "fileselect.on_click(select_cols)\n",
        "display(fileselect)\n",
        "\n",
        "def plot_graph(x_axis,y_axis,colors):\n",
        "    plt.subplots(figsize=(19,8))\n",
        "        #using the plt.bar() function plot the bar graph, for the columns selected, for this update the below parameters of this function.\n",
        "    #1) df[x_axis]- this is the column of the dataframe which is selected using the radio button for x-axis.\n",
        "    #2) df[y_axis]- this is the column of the dataframe which is selected using the radio button for y-axis.\n",
        "    #3) color=colors- this is the value of the color picker. \n",
        "   \n",
        "    plt.xlabel(x_axis)\n",
        "    plt.ylabel(y_axis)\n",
        "    plt.show()"
      ],
      "execution_count": null,
      "outputs": []
    }
  ]
}